{
  "nbformat": 4,
  "nbformat_minor": 0,
  "metadata": {
    "colab": {
      "provenance": [],
      "authorship_tag": "ABX9TyPzxVSNNvzlZuqKFgZnGy6m",
      "include_colab_link": true
    },
    "kernelspec": {
      "name": "python3",
      "display_name": "Python 3"
    },
    "language_info": {
      "name": "python"
    }
  },
  "cells": [
    {
      "cell_type": "markdown",
      "metadata": {
        "id": "view-in-github",
        "colab_type": "text"
      },
      "source": [
        "<a href=\"https://colab.research.google.com/github/indracharan-png/Movie-ticket-booking-system/blob/main/test_colab_notebook.ipynb\" target=\"_parent\"><img src=\"https://colab.research.google.com/assets/colab-badge.svg\" alt=\"Open In Colab\"/></a>"
      ]
    },
    {
      "cell_type": "code",
      "execution_count": null,
      "metadata": {
        "colab": {
          "base_uri": "https://localhost:8080/"
        },
        "id": "7ajo5DyfjDkd",
        "outputId": "f514aa2f-9425-4a4f-ac7b-d622a43fa9ad"
      },
      "outputs": [
        {
          "output_type": "stream",
          "name": "stdout",
          "text": [
            "Test notebook\n"
          ]
        }
      ],
      "source": [
        "print(\"Test notebook\")"
      ]
    },
    {
      "cell_type": "code",
      "source": [
        "print(\"Checking if updates in colab notebook are getting reflected in github\")"
      ],
      "metadata": {
        "id": "gouOeeCAjJEN",
        "outputId": "efb81e60-436f-4421-f5fc-8542462e9505",
        "colab": {
          "base_uri": "https://localhost:8080/"
        }
      },
      "execution_count": 1,
      "outputs": [
        {
          "output_type": "stream",
          "name": "stdout",
          "text": [
            "Checking if updates in colab notebook are getting reflected in github\n"
          ]
        }
      ]
    }
  ]
}